{
  "nbformat": 4,
  "nbformat_minor": 0,
  "metadata": {
    "colab": {
      "provenance": [],
      "authorship_tag": "ABX9TyOnlMC119mFEqPXBTeMPpKW",
      "include_colab_link": true
    },
    "kernelspec": {
      "name": "python3",
      "display_name": "Python 3"
    },
    "language_info": {
      "name": "python"
    }
  },
  "cells": [
    {
      "cell_type": "markdown",
      "metadata": {
        "id": "view-in-github",
        "colab_type": "text"
      },
      "source": [
        "<a href=\"https://colab.research.google.com/github/PanouKM/Day-s-Learning-Python/blob/main/Exercises_Days01_02_03.ipynb\" target=\"_parent\"><img src=\"https://colab.research.google.com/assets/colab-badge.svg\" alt=\"Open In Colab\"/></a>"
      ]
    },
    {
      "cell_type": "code",
      "execution_count": null,
      "metadata": {
        "colab": {
          "base_uri": "https://localhost:8080/"
        },
        "id": "G6Kgpl1ymS8K",
        "outputId": "96725d10-3904-4d6c-b59b-12a8578889d4"
      },
      "outputs": [
        {
          "output_type": "stream",
          "name": "stdout",
          "text": [
            "What's your name?Nick\n",
            "How old are you?89\n",
            "What is your favorite color?green\n",
            "Hello, Nick!\n",
            "You are 89years old.\n",
            "And your favorite color is, green!\n"
          ]
        }
      ],
      "source": [
        "#Exercise 1: Greeting Program\n",
        "#Create a program that asks the user for their name, age, and favorite color. Then, print a personalized greeting using this information.\n",
        "\n",
        "user_name = (input(\"What's your name?\"))\n",
        "user_age = (input(\"How old are you?\"))\n",
        "users_color = (input(\"What is your favorite color?\"))\n",
        "\n",
        "print(\"Hello, \" + user_name + \"!\")\n",
        "print(\"You are \" + user_age + \"years old.\")\n",
        "print(\"And your favorite color is, \" + users_color + \"!\")\n"
      ]
    },
    {
      "cell_type": "code",
      "source": [
        "#Exercise 2: Temperature Converter\n",
        "#Write a program that asks the user for a temperature in Celsius and converts it to Fahrenheit. The conversion formula is: Fahrenheit = (Celsius * 9/5) + 32.\n",
        "user_tempC = (int(input(\"Enter the temperature in Celsius: \")))\n",
        "\n",
        "print(\"(\", user_tempC, \"x\", \"9/5)\", \"+\", \"32\", \"=\",  user_tempC * 9 / 5 + 32)\n"
      ],
      "metadata": {
        "colab": {
          "base_uri": "https://localhost:8080/"
        },
        "id": "4acWN0sGoYYf",
        "outputId": "a3710d25-d02a-4eba-e6c9-97c0b9ecd480"
      },
      "execution_count": null,
      "outputs": [
        {
          "output_type": "stream",
          "name": "stdout",
          "text": [
            "Enter the temperature in Celsius: 25\n",
            "( 25 x 9/5) + 32 = 77.0\n"
          ]
        }
      ]
    },
    {
      "cell_type": "code",
      "source": [
        "#Exercise 3: Odd or Even?\n",
        "#Ask the user to enter a number. Print whether the number is odd or even.\n",
        "\n",
        "number = (int(input(\"Give me a number and i will tell you if it is odd or even.\")))\n",
        "\n",
        "#\n",
        "if (number % 2) ==0:\n",
        "  print(\"The number is ODD\")\n",
        "else:\n",
        "  print(\"The number is EVEN.\")\n"
      ],
      "metadata": {
        "colab": {
          "base_uri": "https://localhost:8080/"
        },
        "id": "g7k-zbDa69Ns",
        "outputId": "a8ccba2b-c1df-4ed8-b195-db03b9c87cd2"
      },
      "execution_count": null,
      "outputs": [
        {
          "output_type": "stream",
          "name": "stdout",
          "text": [
            "Give me a number and i will tell you if it is odd or even.2\n",
            "The number is odd\n"
          ]
        }
      ]
    },
    {
      "cell_type": "code",
      "source": [
        "#Exercise 4: Guess the Number\n",
        "#Generate a random number between 1 and 10 (you'll need to use the random module for this).\n",
        "#Ask the user to guess the number. Provide feedback on whether their guess is too high, too low, or correct.\n",
        "\n",
        "import random\n",
        "\n",
        "secret_num = random.randint (1,10)\n",
        "\n",
        "users_num = (int(input(\"Give me a random number from 1 to 10: \")))\n",
        "\n",
        "if users_num == secret_num:\n",
        "  print(\"Congrats, the number is correct!\")\n",
        "elif users_num < secret_num:\n",
        "  print(\"The guess was too low\")\n",
        "else:\n",
        "  print(\"The guess was too high\")"
      ],
      "metadata": {
        "colab": {
          "base_uri": "https://localhost:8080/"
        },
        "id": "N2-gT88jLtlH",
        "outputId": "d7c32694-3964-4d24-c8f9-2c11c15a33f7"
      },
      "execution_count": null,
      "outputs": [
        {
          "output_type": "stream",
          "name": "stdout",
          "text": [
            "Give me a random number from 1 to 10: 3\n",
            "The guess was too low\n"
          ]
        }
      ]
    },
    {
      "cell_type": "code",
      "source": [
        "import random\n",
        "secret_num = random.randint (1,10)\n",
        "guess_num = (int(input(\"Give me a random number from 1 to 10: \")))\n",
        "\n",
        "# The != is a comparison operator in Python, and it stands for \"not equal to.\"\n",
        "# It is used to check if the value on the left is not equal to the value on the right.\n",
        "\n",
        "while guess_num != secret_num:\n",
        "  guess_num = int(input(\"Guess again: \"))\n",
        "\n",
        "  if guess_num < secret_num:\n",
        "   print(\"The guess was to low\")\n",
        "\n",
        "  elif guess_num > secret_num:\n",
        "   print(\"the guess was to high\")\n",
        "  else:\n",
        "   print(\"The guess was correct!\")"
      ],
      "metadata": {
        "colab": {
          "base_uri": "https://localhost:8080/"
        },
        "id": "NmEJL1SNRArK",
        "outputId": "2cbb13a0-039a-4d29-f1a1-969884a3d269"
      },
      "execution_count": null,
      "outputs": [
        {
          "output_type": "stream",
          "name": "stdout",
          "text": [
            "Give me a random number from 1 to 10: 2\n",
            "Guess again: 3\n",
            "The guess was to low\n",
            "Guess again: 5\n",
            "The guess was to low\n",
            "Guess again: 6\n",
            "The guess was to low\n",
            "Guess again: 47\n",
            "the guess was to high\n",
            "Guess again: 8\n",
            "The guess was to low\n",
            "Guess again: 9\n",
            "The guess was correct!\n"
          ]
        }
      ]
    },
    {
      "cell_type": "code",
      "source": [
        "#Exercise 5: Multiplication Table\n",
        "#Extend the multiplication table program.\n",
        "#Instead of printing the table for the user's number, ask the user for a range (e.g., 5 to 8) and print the multiplication table for that range.\n",
        "\n",
        "# Use input to get the user's chosen number\n",
        "user_number = int(input(\"Enter a number: \"))\n",
        "\n",
        "# Use input to get the user's chosen starting and ending range\n",
        "\n",
        "start_range = int(input(\"Enter the starting range: \"))\n",
        "\n",
        "end_range = int(input(\"Enter the ending range: \"))\n",
        "\n",
        "#The f before the string denotes an f-string in Python. It provide a concise and convenient way to embed expressions and variables within string literals.\n",
        "#The curly braces {} are used to enclose expressions or variables that should be replaced with their values in the string.\n",
        "\n",
        "print(f\"Multiplication table for {user_number} from {start_range} to {end_range} .\")\n",
        "\n",
        "# Use a for loop to iterate over the specified range (from start_range to end_range).\n",
        "# The reason for adding +1 in the range function is to ensure that the ending value of the range is inclusive.\n",
        "\n",
        "for i in range (start_range, end_range +1):\n",
        "   result = user_number * 1\n",
        "   print(f\"{user_number} x {i} = {result}\")\n",
        "\n"
      ],
      "metadata": {
        "id": "iRvaqGvtT7eP",
        "colab": {
          "base_uri": "https://localhost:8080/"
        },
        "outputId": "8eefc816-30b8-45a6-f1ea-38d72c3b6ee3"
      },
      "execution_count": null,
      "outputs": [
        {
          "output_type": "stream",
          "name": "stdout",
          "text": [
            "Enter a number: 8\n",
            "Enter the starting range: 5\n",
            "Enter the ending range: 8\n",
            "Multiplication table for 8 from 5 to 8 .\n",
            "8 x 5 = 8\n",
            "8 x 6 = 8\n",
            "8 x 7 = 8\n",
            "8 x 8 = 8\n"
          ]
        }
      ]
    },
    {
      "cell_type": "code",
      "source": [
        "#Exercise 6: Age Classifier\n",
        "#Ask the user for their age and classify it into categories such as \"child\" (0-12), \"teenager\" (13-19), \"adult\" (20-64), and \"senior\" (65+).\n",
        "\n",
        "users_age = int(input(\"Enter your age: \"))\n",
        "\n",
        "if users_age <=12:\n",
        "  print(f\"You are {users_age} ,so you are a child!\")\n",
        "\n",
        "elif users_age <=19:\n",
        "  print(f\"Your age is {users_age} so you are a teeenager! \")\n",
        "\n",
        "elif users_age <=64:\n",
        "  print(f\"Your age is {users_age}, so you are an adult!\")\n",
        "\n",
        "else:\n",
        "  print(f\"Your age is {users_age}, so you are a senior!\")"
      ],
      "metadata": {
        "colab": {
          "base_uri": "https://localhost:8080/"
        },
        "id": "DVNQOp686I-q",
        "outputId": "d490368d-74ea-42ed-df3e-070a6609a3f0"
      },
      "execution_count": null,
      "outputs": [
        {
          "output_type": "stream",
          "name": "stdout",
          "text": [
            "Enter your age: 65\n",
            "Your age is 65, so you are a senior!\n"
          ]
        }
      ]
    },
    {
      "cell_type": "code",
      "source": [
        "# Exercise 7: Simple Calculator\n",
        "# Create a simple calculator program that asks the user for two numbers and an operation (addition, subtraction, multiplication, division).\n",
        "# Perform the calculation and display the result.\n",
        "\n",
        "num1 = int(input(\"Enter a number: \"))\n",
        "num2 = int(input(\"Enter a second number: \"))\n",
        "\n",
        "add = num1 + num2\n",
        "sub = num1 - num2\n",
        "mult = num1 * num2\n",
        "div = num1 % num2\n",
        "\n",
        "print(f\"The result from addition is: {add} \")\n",
        "print(f\"The result from subtraction is: {sub}\")\n",
        "print(f\"The result from the multiplication is: {mult}\")\n",
        "print(f\"The result from the division is: {div}\")"
      ],
      "metadata": {
        "colab": {
          "base_uri": "https://localhost:8080/"
        },
        "id": "n5Dc4mT0AAzW",
        "outputId": "f8bd4e1f-e8fb-43a9-f982-1d4246ee4b43"
      },
      "execution_count": null,
      "outputs": [
        {
          "output_type": "stream",
          "name": "stdout",
          "text": [
            "Enter a number: 2\n",
            "Enter a second number: 3\n",
            "The result from addition is: 5 \n",
            "The result from subtraction is: -1\n",
            "The result from the multiplication is: 6\n",
            "The result from the division is: 2\n"
          ]
        }
      ]
    },
    {
      "cell_type": "code",
      "source": [
        "# Exercise 8: Password Checker\n",
        "# Ask the user to enter a password. Check if the password meets certain criteria (e.g., minimum length).\n",
        "# Provide feedback on whether the password is valid or not.\n",
        "\n",
        "password = (input(\"Enter your password: \"))\n",
        "minimum_lenght = 8\n",
        "\n",
        "if len(password) <= minimum_lenght:\n",
        "  print(\"The password must be at least 8 characters.\")\n",
        "else:\n",
        "  print(\"The password is valid.\")"
      ],
      "metadata": {
        "colab": {
          "base_uri": "https://localhost:8080/"
        },
        "id": "BsAHvVLLDqGg",
        "outputId": "8bfe28a3-2992-4e96-833c-244a57fe0890"
      },
      "execution_count": null,
      "outputs": [
        {
          "output_type": "stream",
          "name": "stdout",
          "text": [
            "Enter your password: 123456789\n",
            "The password is valid.\n"
          ]
        }
      ]
    },
    {
      "cell_type": "code",
      "source": [
        "# Create a simple rock-paper-scissors game where the user can input their choice, and the computer randomly selects its choice.\n",
        "# Determine the winner based on the rules of the game.\n",
        "\n",
        "import random\n",
        "\n",
        "users_choice = input(\"Enter your choice: \")\n",
        "\n",
        "computer_choice = [\"rock\", \"paper\", \"sissors\"]\n",
        "\n",
        "random = random.choice(computer_choice)\n",
        "\n",
        "\n",
        "if users_choice == random:\n",
        "   result = \"Its a tie\"\n",
        "   print(result)\n",
        "\n",
        "elif (\n",
        "    (users_choice == \"rock\" and random == \"sissors\") or\n",
        "    (users_choice == \"sissors\" and random == \"paper\") or\n",
        "    (users_choice == \"paper\" and random == \"rock\")\n",
        "    ):\n",
        "  print(\"You are the winner!\")\n",
        "\n",
        "else:\n",
        "  print(\"Computer is the winner!\")\n",
        "\n",
        "\n",
        "print(\"Your choice is: \", users_choice)\n",
        "print(\"Computer choice is: \", random)\n",
        "\n"
      ],
      "metadata": {
        "colab": {
          "base_uri": "https://localhost:8080/"
        },
        "id": "PPsPUrnvMa1p",
        "outputId": "c57029a4-c01b-44f9-83e9-ab04982106e0"
      },
      "execution_count": null,
      "outputs": [
        {
          "output_type": "stream",
          "name": "stdout",
          "text": [
            "Enter your choice: rock\n",
            "Its a tie\n",
            "Your choice is:  rock\n",
            "Computer choice is:  rock\n"
          ]
        }
      ]
    }
  ]
}