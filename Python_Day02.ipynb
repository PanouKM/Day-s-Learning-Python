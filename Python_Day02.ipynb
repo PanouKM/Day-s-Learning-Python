{
  "nbformat": 4,
  "nbformat_minor": 0,
  "metadata": {
    "colab": {
      "provenance": [],
      "authorship_tag": "ABX9TyNjrcevicl8SS0nbG+0BFzB",
      "include_colab_link": true
    },
    "kernelspec": {
      "name": "python3",
      "display_name": "Python 3"
    },
    "language_info": {
      "name": "python"
    }
  },
  "cells": [
    {
      "cell_type": "markdown",
      "metadata": {
        "id": "view-in-github",
        "colab_type": "text"
      },
      "source": [
        "<a href=\"https://colab.research.google.com/github/PanouKM/Day-s-Learning-Python/blob/main/Python_Day02.ipynb\" target=\"_parent\"><img src=\"https://colab.research.google.com/assets/colab-badge.svg\" alt=\"Open In Colab\"/></a>"
      ]
    },
    {
      "cell_type": "code",
      "execution_count": null,
      "metadata": {
        "colab": {
          "base_uri": "https://localhost:8080/"
        },
        "id": "NDgl4cjQV5q6",
        "outputId": "ac611f9c-4091-49c1-9bd2-50c92ffc77b0"
      },
      "outputs": [
        {
          "output_type": "stream",
          "name": "stdout",
          "text": [
            "How old are you?28\n",
            "You are an adult!\n"
          ]
        }
      ],
      "source": [
        "#conditional statements if-elif-else\n",
        "\n",
        "user_age = int(input(\"How old are you?\"))\n",
        "\n",
        "if user_age <=12:\n",
        "  print(\"You are a child!\")\n",
        "\n",
        "elif user_age <=17:\n",
        "  print(\"You are a teenager\")\n",
        "\n",
        "else:\n",
        "  print(\"You are an adult!\")"
      ]
    },
    {
      "cell_type": "code",
      "source": [
        "day = int(input(\"What is the date today?\"))\n",
        "\n",
        "if day <=10:\n",
        "  print(\"It's the begin of the month!\")\n",
        "\n",
        "elif day <=20:\n",
        "  print(\"It's the middle of the month\")\n",
        "\n",
        "elif day <=30:\n",
        "  print(\"The month will be over soon\")\n",
        "\n",
        "elif day ==31:\n",
        "   print(\"The month is over\")\n",
        "\n",
        "elif day >=32:\n",
        "  print(\"not valid value\")"
      ],
      "metadata": {
        "colab": {
          "base_uri": "https://localhost:8080/"
        },
        "id": "DBuznjYDX3w0",
        "outputId": "0cc63687-8bdc-458c-cfe5-3232a53765b2"
      },
      "execution_count": null,
      "outputs": [
        {
          "output_type": "stream",
          "name": "stdout",
          "text": [
            "What is the date today?20\n",
            "It's the middle of the month\n"
          ]
        }
      ]
    },
    {
      "cell_type": "code",
      "source": [
        "km = int(input(\"How many kilometers are written on the odometer of your car?\"))\n",
        "\n",
        "if km <=10000:\n",
        "  print(\"You will need a service in the next 25000 km\")\n",
        "\n",
        "elif km <=20000:\n",
        "  print(\"You will need a service in the next 5000 km\")\n",
        "\n",
        "elif km >=25000:\n",
        "  print(\"You have to service your car!\")\n"
      ],
      "metadata": {
        "colab": {
          "base_uri": "https://localhost:8080/"
        },
        "id": "U7OIWzeodkss",
        "outputId": "307fe7ea-0a78-4cb6-cfcc-9a5691267a6e"
      },
      "execution_count": null,
      "outputs": [
        {
          "output_type": "stream",
          "name": "stdout",
          "text": [
            "How many kilometers are written on the odometer of your car?15000\n",
            "You will need a service in the next 5000 km\n"
          ]
        }
      ]
    },
    {
      "cell_type": "code",
      "source": [
        "age = int(input(\"How old are you?\"))\n",
        "\n",
        "if age <18:\n",
        "  print(\"You can't have alcohol ?\")\n",
        "\n",
        "else:\n",
        "  print(\"You can have alcohol.\")"
      ],
      "metadata": {
        "colab": {
          "base_uri": "https://localhost:8080/"
        },
        "id": "KhLPCDmhpzzG",
        "outputId": "e84d063c-141b-4388-88bf-494b8dde1604"
      },
      "execution_count": null,
      "outputs": [
        {
          "output_type": "stream",
          "name": "stdout",
          "text": [
            "How old are you?17\n",
            "You can't have alcohol ?\n"
          ]
        }
      ]
    },
    {
      "cell_type": "code",
      "source": [],
      "metadata": {
        "id": "bPDccVQwuQdM"
      },
      "execution_count": null,
      "outputs": []
    }
  ]
}