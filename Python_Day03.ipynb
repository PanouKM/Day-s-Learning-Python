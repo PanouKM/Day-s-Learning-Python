{
  "nbformat": 4,
  "nbformat_minor": 0,
  "metadata": {
    "colab": {
      "provenance": [],
      "authorship_tag": "ABX9TyOdnkWy4w43S7Y/A3WMW/XO",
      "include_colab_link": true
    },
    "kernelspec": {
      "name": "python3",
      "display_name": "Python 3"
    },
    "language_info": {
      "name": "python"
    }
  },
  "cells": [
    {
      "cell_type": "markdown",
      "metadata": {
        "id": "view-in-github",
        "colab_type": "text"
      },
      "source": [
        "<a href=\"https://colab.research.google.com/github/PanouKM/Day-s-Learning-Python/blob/main/Python_Day03.ipynb\" target=\"_parent\"><img src=\"https://colab.research.google.com/assets/colab-badge.svg\" alt=\"Open In Colab\"/></a>"
      ]
    },
    {
      "cell_type": "code",
      "execution_count": 6,
      "metadata": {
        "colab": {
          "base_uri": "https://localhost:8080/"
        },
        "id": "Tv5NBo1ZiTej",
        "outputId": "78cde8b1-9969-4ca7-ee0e-ec21fa94e3fd"
      },
      "outputs": [
        {
          "output_type": "stream",
          "name": "stdout",
          "text": [
            "Enter a number: 55\n",
            "55 x 0 = 0\n",
            "55 x 1 = 55\n",
            "55 x 2 = 110\n",
            "55 x 3 = 165\n",
            "55 x 4 = 220\n",
            "55 x 5 = 275\n",
            "55 x 6 = 330\n",
            "55 x 7 = 385\n",
            "55 x 8 = 440\n",
            "55 x 9 = 495\n",
            "55 x 10 = 550\n",
            "55 x 11 = 605\n",
            "55 x 12 = 660\n",
            "55 x 13 = 715\n",
            "55 x 14 = 770\n",
            "55 x 15 = 825\n",
            "55 x 16 = 880\n",
            "55 x 17 = 935\n",
            "55 x 18 = 990\n",
            "55 x 19 = 1045\n",
            "55 x 20 = 1100\n"
          ]
        }
      ],
      "source": [
        "#loops\n",
        "user_num = int(input(\"Enter a number: \"))\n",
        "\n",
        "#for_loop - the variable i takes on each value in this range in each iteration of the loop.\n",
        "for i in range (0, 21):\n",
        "  print(user_num, \"x\", i, \"=\", user_num * i)\n",
        "#user_number: This is the number entered by the user - \"x\": This is a string that represents the multiplication symbol.\n",
        "#i: This is the current value of the loop variable, ranging from 0 to 20. - \"=\": This is a string that separates the expression from the result in the printed output.\n",
        "#user_number * i: This calculates the product of user_number and i, which gives the result of the multiplication.\n",
        "\n",
        "\n"
      ]
    },
    {
      "cell_type": "code",
      "source": [],
      "metadata": {
        "id": "YJUE_p12io_L"
      },
      "execution_count": null,
      "outputs": []
    }
  ]
}