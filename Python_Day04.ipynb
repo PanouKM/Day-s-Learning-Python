{
  "nbformat": 4,
  "nbformat_minor": 0,
  "metadata": {
    "colab": {
      "provenance": [],
      "toc_visible": true,
      "authorship_tag": "ABX9TyPRSj3xvou+Mk2fMGlj66QU",
      "include_colab_link": true
    },
    "kernelspec": {
      "name": "python3",
      "display_name": "Python 3"
    },
    "language_info": {
      "name": "python"
    }
  },
  "cells": [
    {
      "cell_type": "markdown",
      "metadata": {
        "id": "view-in-github",
        "colab_type": "text"
      },
      "source": [
        "<a href=\"https://colab.research.google.com/github/PanouKM/Day-s-Learning-Python/blob/main/Python_Day04.ipynb\" target=\"_parent\"><img src=\"https://colab.research.google.com/assets/colab-badge.svg\" alt=\"Open In Colab\"/></a>"
      ]
    },
    {
      "cell_type": "code",
      "execution_count": null,
      "metadata": {
        "colab": {
          "base_uri": "https://localhost:8080/"
        },
        "id": "MJqM0LRdFbt7",
        "outputId": "7bc87be0-12c6-4fbf-adb6-f1c0cac43898"
      },
      "outputs": [
        {
          "output_type": "stream",
          "name": "stdout",
          "text": [
            "Enter a number: 5\n",
            "Multiplication table for 5\n",
            "5 x 1 = 5\n",
            "5 x 2 = 10\n",
            "5 x 3 = 15\n",
            "5 x 4 = 20\n",
            "5 x 5 = 25\n",
            "5 x 6 = 30\n",
            "5 x 7 = 35\n",
            "5 x 8 = 40\n",
            "5 x 9 = 45\n",
            "5 x 10 = 50\n",
            "5 x 11 = 55\n",
            "5 x 12 = 60\n",
            "5 x 13 = 65\n",
            "5 x 14 = 70\n",
            "5 x 15 = 75\n",
            "5 x 16 = 80\n",
            "5 x 17 = 85\n",
            "5 x 18 = 90\n",
            "5 x 19 = 95\n",
            "5 x 20 = 100\n"
          ]
        }
      ],
      "source": [
        "#Loops (for & while)\n",
        "\n",
        "user_number = int(input(\"Enter a number: \"))\n",
        "\n",
        "print(f\"Multiplication table for {user_number}\")\n",
        "\n",
        "for i in range (1,21):\n",
        "  result = user_number * i\n",
        "  print(f\"{user_number} x {i} = {result}\")"
      ]
    },
    {
      "cell_type": "code",
      "source": [
        "#Exercise 1: Counting with a For Loop\n",
        "#Write a program that prints the numbers from 1 to 10 using a for loop.\n",
        "for i in range (1,11):\n",
        "  print(i)"
      ],
      "metadata": {
        "colab": {
          "base_uri": "https://localhost:8080/"
        },
        "id": "BMxtlBBXIx0D",
        "outputId": "5b3aa593-3006-4af7-8260-78f52776af01"
      },
      "execution_count": null,
      "outputs": [
        {
          "output_type": "stream",
          "name": "stdout",
          "text": [
            "1\n",
            "2\n",
            "3\n",
            "4\n",
            "5\n",
            "6\n",
            "7\n",
            "8\n",
            "9\n",
            "10\n"
          ]
        }
      ]
    },
    {
      "cell_type": "code",
      "source": [
        "#Exercise 2: Multiplication Table\n",
        "#Ask the user to enter a number and print the multiplication table for that number from 1 to 5 using a for loop.\n",
        "\n",
        "user_number = int(input(\"Enter a number: \"))\n",
        "print(f\"Users umber is: {user_number}\")\n",
        "\n",
        "for i in range (1,6):\n",
        "  result = i * user_number\n",
        "  print(f\"{user_number} x {i} = {result}\")"
      ],
      "metadata": {
        "colab": {
          "base_uri": "https://localhost:8080/"
        },
        "id": "PQvi10_SNJzH",
        "outputId": "69860507-2ce4-4283-b6fa-6bf92d40e926"
      },
      "execution_count": null,
      "outputs": [
        {
          "output_type": "stream",
          "name": "stdout",
          "text": [
            "Enter a number: 6\n",
            "Users umber is: 6\n",
            "6 x 1 = 6\n",
            "6 x 2 = 12\n",
            "6 x 3 = 18\n",
            "6 x 4 = 24\n",
            "6 x 5 = 30\n"
          ]
        }
      ]
    },
    {
      "cell_type": "code",
      "source": [
        "#Exercise 3: Even Numbers\n",
        "#Print all even numbers between 1 and 20 using a for loop.\n",
        "\n",
        "for i in range (1,21):\n",
        "  if i%2:\n",
        "    print(i)"
      ],
      "metadata": {
        "colab": {
          "base_uri": "https://localhost:8080/"
        },
        "id": "lTWK-f3iN86l",
        "outputId": "127c6668-84e7-403a-b57f-ed828537ab92"
      },
      "execution_count": null,
      "outputs": [
        {
          "output_type": "stream",
          "name": "stdout",
          "text": [
            "1\n",
            "3\n",
            "5\n",
            "7\n",
            "9\n",
            "11\n",
            "13\n",
            "15\n",
            "17\n",
            "19\n"
          ]
        }
      ]
    },
    {
      "cell_type": "code",
      "source": [
        "#Exercise 4: Factorial\n",
        "#Ask the user to enter a number and calculate its factorial using a for loop.\n",
        "\n",
        "user_number= int(input(\"Enter a number: \"))\n",
        "\n"
      ],
      "metadata": {
        "id": "1HI_-GdEzaeY"
      },
      "execution_count": null,
      "outputs": []
    },
    {
      "cell_type": "code",
      "source": [
        "#Exercise 5: Guessing Game\n",
        "#Generate a random number between 1 and 10. Ask the user to guess the number.\n",
        "#Provide feedback on whether their guess is too high, too low, or correct. Repeat until they guess the correct number.\n",
        "\n",
        "import random\n",
        "\n",
        "rand_num = random.randint(1, 10)\n",
        "print(rand_num)\n",
        "\n",
        "user_num = int(input(\"Enter a number from 1 to 10: \"))\n",
        "\n",
        "for i in range(1,10):\n",
        "\n",
        " if user_num > rand_num:\n",
        "    print(int(input(\"The guess is too high \")))\n",
        " elif user_num < rand_num:\n",
        "    print(int(input(\"The guess is too low \")))\n",
        " else:\n",
        "    print(\"Congrats! the guess was correct! \")\n",
        "    break\n"
      ],
      "metadata": {
        "colab": {
          "base_uri": "https://localhost:8080/"
        },
        "id": "hQ2gsbnBP2FG",
        "outputId": "9532606d-312f-4e9e-9135-0786c4ccb559"
      },
      "execution_count": null,
      "outputs": [
        {
          "output_type": "stream",
          "name": "stdout",
          "text": [
            "6\n",
            "Enter a number from 1 to 10: 6\n",
            "Congrats! the guess was correct! \n"
          ]
        }
      ]
    },
    {
      "cell_type": "code",
      "source": [
        "#Exercise 6: Sum of Numbers\n",
        "#Ask the user to enter a positive integer.\n",
        "#Calculate and print the sum of all numbers from 1 to that integer using a for loop.\n",
        "\n",
        "user_pn = int(input(\"enter a positive number: \"))\n",
        "\n",
        "for i in range(1,user_pn):\n",
        "  result = user_pn + i\n",
        "  print(result)"
      ],
      "metadata": {
        "id": "EqrkWgS5To-M",
        "colab": {
          "base_uri": "https://localhost:8080/"
        },
        "outputId": "201ef823-2d24-48c4-fc51-55ba24ad0148"
      },
      "execution_count": null,
      "outputs": [
        {
          "output_type": "stream",
          "name": "stdout",
          "text": [
            "enter a positive number: 2\n",
            "3\n"
          ]
        }
      ]
    },
    {
      "cell_type": "code",
      "source": [],
      "metadata": {
        "id": "iWIKLHJ7E-J0"
      },
      "execution_count": null,
      "outputs": []
    }
  ]
}